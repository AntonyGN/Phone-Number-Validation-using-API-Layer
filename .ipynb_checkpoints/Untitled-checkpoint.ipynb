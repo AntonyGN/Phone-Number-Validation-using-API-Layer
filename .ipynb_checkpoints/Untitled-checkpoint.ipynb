{
 "cells": [
  {
   "cell_type": "code",
   "execution_count": 13,
   "id": "cd103f67",
   "metadata": {},
   "outputs": [
    {
     "name": "stdout",
     "output_type": "stream",
     "text": [
      "The phone number 254790295419 is valid but the carrier information is not available.\n"
     ]
    }
   ],
   "source": [
    "import requests\n",
    "import json\n",
    "\n",
    "url = \"https://api.apilayer.com/number_verification/validate\"\n",
    "params = {\"number\": \"254790295419\"}\n",
    "headers = {\"apikey\": \"hwKpz11LVNRgK97gaRYS2Puz4uNITDhg\"}\n",
    "\n",
    "response = requests.get(url, params=params, headers=headers)\n",
    "\n",
    "if response.status_code == 200:\n",
    "    result = json.loads(response.text)\n",
    "    if result[\"valid\"]:\n",
    "        if result[\"carrier\"]:\n",
    "            print(f\"The phone number {result['number']} is valid and belongs to {result['carrier']}.\")\n",
    "        else:\n",
    "            print(f\"The phone number {result['number']} is valid but the carrier information is not available.\")\n",
    "    else:\n",
    "        print(f\"The phone number {result['number']} is not valid.\")\n",
    "else:\n",
    "    print(f\"An error occurred: {response.status_code}\")\n",
    "\n"
   ]
  },
  {
   "cell_type": "code",
   "execution_count": null,
   "id": "d0fde772",
   "metadata": {},
   "outputs": [],
   "source": []
  }
 ],
 "metadata": {
  "kernelspec": {
   "display_name": "Python 3 (ipykernel)",
   "language": "python",
   "name": "python3"
  },
  "language_info": {
   "codemirror_mode": {
    "name": "ipython",
    "version": 3
   },
   "file_extension": ".py",
   "mimetype": "text/x-python",
   "name": "python",
   "nbconvert_exporter": "python",
   "pygments_lexer": "ipython3",
   "version": "3.9.13"
  }
 },
 "nbformat": 4,
 "nbformat_minor": 5
}
